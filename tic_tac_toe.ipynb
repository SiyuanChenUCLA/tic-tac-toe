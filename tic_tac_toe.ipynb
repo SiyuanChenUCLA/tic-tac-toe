{
 "cells": [
  {
   "cell_type": "code",
   "execution_count": 1,
   "metadata": {
    "collapsed": true
   },
   "outputs": [],
   "source": [
    "def print_board(xo_list):\n",
    "    #to print the board\n",
    "    j=0\n",
    "    for i in range(0,3):\n",
    "        for k in range(0,3):\n",
    "            print(f'  {xo_list[j]}  |',end=''),\n",
    "            j = j+1\n",
    "        print('')\n",
    "        print('----------------------------')\n",
    "    pass       "
   ]
  },
  {
   "cell_type": "code",
   "execution_count": 2,
   "metadata": {
    "collapsed": true
   },
   "outputs": [],
   "source": [
    "def if_xo(counter):\n",
    "    # to determine whether to put o or x\n",
    "    if counter%2:\n",
    "        return 'o'\n",
    "    else:\n",
    "        return 'x'\n",
    "    pass"
   ]
  },
  {
   "cell_type": "code",
   "execution_count": 3,
   "metadata": {
    "collapsed": true
   },
   "outputs": [],
   "source": [
    "def print_line():\n",
    "    # to print the boarder line\n",
    "    print('----------------------------')\n",
    "    pass"
   ]
  },
  {
   "cell_type": "code",
   "execution_count": 4,
   "metadata": {
    "collapsed": true
   },
   "outputs": [],
   "source": [
    "def check_row(xo_list):\n",
    "    # check if win by row\n",
    "    tf=False\n",
    "    for i in range(0,3):\n",
    "        j=3*i\n",
    "        if xo_list[j]==xo_list[j+1]==xo_list[j+2]!=' ':\n",
    "            tf=True\n",
    "            break\n",
    "    return tf\n",
    "    pass\n",
    "        "
   ]
  },
  {
   "cell_type": "code",
   "execution_count": 5,
   "metadata": {
    "collapsed": true
   },
   "outputs": [],
   "source": [
    "def check_column(xo_list):\n",
    "     # check if win by row\n",
    "    tf=False\n",
    "    for j in range(0,3):\n",
    "        if xo_list[j]==xo_list[j+3]==xo_list[j+6]!=' ':\n",
    "            tf=True\n",
    "            break\n",
    "    return tf"
   ]
  },
  {
   "cell_type": "code",
   "execution_count": 6,
   "metadata": {
    "collapsed": true
   },
   "outputs": [],
   "source": [
    "def check_cross(xo_list):\n",
    "    tf=False\n",
    "    if xo_list[0]==xo_list[4]==xo_list[8] or xo_list[2]==xo_list[4]==xo_list[6]!=' ':\n",
    "        tf = True\n",
    "    return tf\n"
   ]
  },
  {
   "cell_type": "code",
   "execution_count": 7,
   "metadata": {
    "collapsed": true
   },
   "outputs": [],
   "source": [
    "def check_game_over(xo_list):\n",
    "    if not ''in xo_list:\n",
    "        return True\n",
    "    else:\n",
    "        return False\n",
    "    pass"
   ]
  },
  {
   "cell_type": "code",
   "execution_count": null,
   "metadata": {
    "collapsed": true
   },
   "outputs": [],
   "source": []
  },
  {
   "cell_type": "code",
   "execution_count": 8,
   "metadata": {},
   "outputs": [
    {
     "name": "stdout",
     "output_type": "stream",
     "text": [
      "Please input where you want to put your mark (number 0-8): 0\n",
      "  x  |     |     |\n",
      "----------------------------\n",
      "     |     |     |\n",
      "----------------------------\n",
      "     |     |     |\n",
      "----------------------------\n",
      "Please input where you want to put your mark (number 0-8): 1\n",
      "  x  |  o  |     |\n",
      "----------------------------\n",
      "     |     |     |\n",
      "----------------------------\n",
      "     |     |     |\n",
      "----------------------------\n",
      "Please input where you want to put your mark (number 0-8): 2\n",
      "  x  |  o  |  x  |\n",
      "----------------------------\n",
      "     |     |     |\n",
      "----------------------------\n",
      "     |     |     |\n",
      "----------------------------\n",
      "Please input where you want to put your mark (number 0-8): 3\n",
      "  x  |  o  |  x  |\n",
      "----------------------------\n",
      "  o  |     |     |\n",
      "----------------------------\n",
      "     |     |     |\n",
      "----------------------------\n",
      "Please input where you want to put your mark (number 0-8): 4\n",
      "  x  |  o  |  x  |\n",
      "----------------------------\n",
      "  o  |  x  |     |\n",
      "----------------------------\n",
      "     |     |     |\n",
      "----------------------------\n",
      "Please input where you want to put your mark (number 0-8): 5\n",
      "  x  |  o  |  x  |\n",
      "----------------------------\n",
      "  o  |  x  |  o  |\n",
      "----------------------------\n",
      "     |     |     |\n",
      "----------------------------\n",
      "Please input where you want to put your mark (number 0-8): 6\n",
      "  x  |  o  |  x  |\n",
      "----------------------------\n",
      "  o  |  x  |  o  |\n",
      "----------------------------\n",
      "  x  |     |     |\n",
      "----------------------------\n",
      "You win!\n"
     ]
    }
   ],
   "source": [
    "# main script\n",
    "xo_list = [' ',' ',' ',' ',' ',' ',' ',' ',' ']\n",
    "for counter in range(0,9):\n",
    "    location = int(input('Please input where you want to put your mark (number 0-8): '))\n",
    "    xo_list[location] = if_xo(counter)\n",
    "    list_index=0\n",
    "    print_board(xo_list)\n",
    "    if check_row(xo_list) or check_column(xo_list) or check_cross(xo_list):\n",
    "        print('You win!')\n",
    "        break\n",
    "    elif counter==8:\n",
    "        print('Game over. Tie!')\n",
    "\n",
    " \n",
    "       "
   ]
  }
 ],
 "metadata": {
  "kernelspec": {
   "display_name": "Python 3",
   "language": "python",
   "name": "python3"
  },
  "language_info": {
   "codemirror_mode": {
    "name": "ipython",
    "version": 3
   },
   "file_extension": ".py",
   "mimetype": "text/x-python",
   "name": "python",
   "nbconvert_exporter": "python",
   "pygments_lexer": "ipython3",
   "version": "3.6.3"
  }
 },
 "nbformat": 4,
 "nbformat_minor": 2
}
